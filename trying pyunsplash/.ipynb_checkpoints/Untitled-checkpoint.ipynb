{
 "cells": [
  {
   "cell_type": "code",
   "execution_count": 5,
   "id": "90e8459e",
   "metadata": {},
   "outputs": [
    {
     "name": "stdout",
     "output_type": "stream",
     "text": [
      "pHgZ0aer5XE https://unsplash.com/photos/pHgZ0aer5XE\n"
     ]
    }
   ],
   "source": [
    "from pyunsplash import PyUnsplash\n",
    "UNSPLASH_ACCESS_KEY = 'RUllKUvNdH11mAZNgkWp_uzr3PU2rRIFidCCGsoDNC4'\n",
    "\n",
    "pu = PyUnsplash(api_key=UNSPLASH_ACCESS_KEY)\n",
    "\n",
    "photos = pu.photos(type_='random', count=1, featured=True, query=\"splash\")\n",
    "[photo] = photos.entries\n",
    "print(photo.id, photo.link_download)"
   ]
  },
  {
   "cell_type": "code",
   "execution_count": null,
   "id": "4340ed6c",
   "metadata": {},
   "outputs": [],
   "source": []
  }
 ],
 "metadata": {
  "kernelspec": {
   "display_name": "Python 3 (ipykernel)",
   "language": "python",
   "name": "python3"
  },
  "language_info": {
   "codemirror_mode": {
    "name": "ipython",
    "version": 3
   },
   "file_extension": ".py",
   "mimetype": "text/x-python",
   "name": "python",
   "nbconvert_exporter": "python",
   "pygments_lexer": "ipython3",
   "version": "3.8.2"
  }
 },
 "nbformat": 4,
 "nbformat_minor": 5
}
